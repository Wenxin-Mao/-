{
 "cells": [
  {
   "cell_type": "code",
   "execution_count": 20,
   "metadata": {
    "pycharm": {
     "is_executing": false
    }
   },
   "outputs": [
    {
     "data": {
      "text/html": [
       "<div>\n",
       "<style scoped>\n",
       "    .dataframe tbody tr th:only-of-type {\n",
       "        vertical-align: middle;\n",
       "    }\n",
       "\n",
       "    .dataframe tbody tr th {\n",
       "        vertical-align: top;\n",
       "    }\n",
       "\n",
       "    .dataframe thead th {\n",
       "        text-align: right;\n",
       "    }\n",
       "</style>\n",
       "<table border=\"1\" class=\"dataframe\">\n",
       "  <thead>\n",
       "    <tr style=\"text-align: right;\">\n",
       "      <th></th>\n",
       "      <th>Exam1</th>\n",
       "      <th>Exam2</th>\n",
       "      <th>Pass</th>\n",
       "    </tr>\n",
       "  </thead>\n",
       "  <tbody>\n",
       "    <tr>\n",
       "      <th>0</th>\n",
       "      <td>34.623660</td>\n",
       "      <td>78.024693</td>\n",
       "      <td>0</td>\n",
       "    </tr>\n",
       "    <tr>\n",
       "      <th>1</th>\n",
       "      <td>30.286711</td>\n",
       "      <td>43.894998</td>\n",
       "      <td>0</td>\n",
       "    </tr>\n",
       "    <tr>\n",
       "      <th>2</th>\n",
       "      <td>35.847409</td>\n",
       "      <td>72.902198</td>\n",
       "      <td>0</td>\n",
       "    </tr>\n",
       "    <tr>\n",
       "      <th>3</th>\n",
       "      <td>60.182599</td>\n",
       "      <td>86.308552</td>\n",
       "      <td>1</td>\n",
       "    </tr>\n",
       "    <tr>\n",
       "      <th>4</th>\n",
       "      <td>79.032736</td>\n",
       "      <td>75.344376</td>\n",
       "      <td>1</td>\n",
       "    </tr>\n",
       "  </tbody>\n",
       "</table>\n",
       "</div>"
      ],
      "text/plain": [
       "       Exam1      Exam2  Pass\n",
       "0  34.623660  78.024693     0\n",
       "1  30.286711  43.894998     0\n",
       "2  35.847409  72.902198     0\n",
       "3  60.182599  86.308552     1\n",
       "4  79.032736  75.344376     1"
      ]
     },
     "execution_count": 20,
     "metadata": {},
     "output_type": "execute_result"
    }
   ],
   "source": [
    "# 任务：基于examdata.cv数据，建立逻回归模型 \n",
    "# 预测EXam1 = 75; Exam2 = 60时，该同学在EXam3是 pased or failed;\n",
    "# 建立二阶边界，提高模型准确度\n",
    "\n",
    "\n",
    "# 加载数据examdata.csv\n",
    "\n",
    "import pandas as pd\n",
    "import numpy as np\n",
    "data = pd.read_csv(\"examdata.csv\")\n",
    "\n",
    "# 查看数据\n",
    "\n",
    "data.head()"
   ]
  },
  {
   "cell_type": "code",
   "execution_count": 21,
   "metadata": {
    "pycharm": {
     "is_executing": false,
     "name": "#%%\n"
    }
   },
   "outputs": [
    {
     "data": {
      "image/png": "[encoded data removed]",
      "text/plain": [
       "<Figure size 432x288 with 1 Axes>"
      ]
     },
     "metadata": {
      "needs_background": "light"
     },
     "output_type": "display_data"
    }
   ],
   "source": [
    "# 将散点数据可视化\n",
    "\n",
    "%matplotlib inline\n",
    "from matplotlib import pyplot as plt\n",
    "fig1 = plt.figure()  \n",
    "plt.scatter(data.loc[:,'Exam1'],data.loc[:,\"Exam2\"])  # 画出散点出，分别索引'Exam1'列数据，和'Exam1'列数据\n",
    "plt.title(\"Exam1-Exam2\") \n",
    "plt.xlabel(\"Exam1\")\n",
    "plt.ylabel(\"Exam2\")\n",
    "plt.show()"
   ]
  },
  {
   "cell_type": "code",
   "execution_count": 22,
   "metadata": {
    "pycharm": {
     "is_executing": false,
     "name": "#%%\n"
    }
   },
   "outputs": [
    {
     "name": "stdout",
     "output_type": "stream",
     "text": [
      "0     False\n",
      "1     False\n",
      "2     False\n",
      "3      True\n",
      "4      True\n",
      "5     False\n",
      "6      True\n",
      "7      True\n",
      "8      True\n",
      "9      True\n",
      "10    False\n",
      "11    False\n",
      "12     True\n",
      "13     True\n",
      "14    False\n",
      "15     True\n",
      "16     True\n",
      "17    False\n",
      "18     True\n",
      "19     True\n",
      "20    False\n",
      "21     True\n",
      "22    False\n",
      "23    False\n",
      "24     True\n",
      "25     True\n",
      "26     True\n",
      "27    False\n",
      "28    False\n",
      "29    False\n",
      "      ...  \n",
      "70    False\n",
      "71     True\n",
      "72     True\n",
      "73     True\n",
      "74     True\n",
      "75     True\n",
      "76     True\n",
      "77     True\n",
      "78    False\n",
      "79    False\n",
      "80     True\n",
      "81     True\n",
      "82     True\n",
      "83     True\n",
      "84     True\n",
      "85     True\n",
      "86    False\n",
      "87     True\n",
      "88     True\n",
      "89    False\n",
      "90     True\n",
      "91     True\n",
      "92    False\n",
      "93     True\n",
      "94     True\n",
      "95     True\n",
      "96     True\n",
      "97     True\n",
      "98     True\n",
      "99     True\n",
      "Name: Pass, Length: 100, dtype: bool\n"
     ]
    }
   ],
   "source": [
    "#add lable mask 给散点数据加上不同类别的标记\n",
    "\n",
    "#取通过的passed\n",
    "\n",
    "mask = data.loc[:,'Pass']==1\n",
    "print(mask)"
   ]
  },
  {
   "cell_type": "code",
   "execution_count": 23,
   "metadata": {
    "pycharm": {
     "is_executing": false,
     "name": "#%%\n"
    }
   },
   "outputs": [
    {
     "data": {
      "image/png": "[encoded data removed]",
      "text/plain": [
       "<Figure size 432x288 with 1 Axes>"
      ]
     },
     "metadata": {
      "needs_background": "light"
     },
     "output_type": "display_data"
    }
   ],
   "source": [
    "#区分可视化不同类别的点\n",
    "from matplotlib import pyplot as plt\n",
    "fig2 = plt.figure()\n",
    "passed = plt.scatter(data.loc[:,'Exam1'][mask],data.loc[:,\"Exam2\"][mask])\n",
    "failed = plt.scatter(data.loc[:,'Exam1'][~mask],data.loc[:,\"Exam2\"][~mask])\n",
    "plt.title(\"Exam1-Exam2\")\n",
    "plt.xlabel(\"Exam1\")\n",
    "plt.ylabel(\"Exam2\")\n",
    "plt.legend((passed,failed),('passed','failed'))\n",
    "plt.show()"
   ]
  },
  {
   "cell_type": "code",
   "execution_count": 24,
   "metadata": {
    "pycharm": {
     "is_executing": false,
     "name": "#%% define X.y\n"
    }
   },
   "outputs": [
    {
     "name": "stdout",
     "output_type": "stream",
     "text": [
      "<class 'pandas.core.frame.DataFrame'>\n"
     ]
    }
   ],
   "source": [
    "# 进行数据的赋值。去除数据集的pass列赋给X，pass赋给y\n",
    "\n",
    "X = data.drop(['Pass'],axis=1)\n",
    "y = data.loc[:,'Pass']\n",
    "X1 = data.loc[:,'Exam1']\n",
    "X2 = data.loc[:,'Exam2']\n",
    "print(type(X))"
   ]
  },
  {
   "cell_type": "code",
   "execution_count": 25,
   "metadata": {
    "pycharm": {
     "is_executing": false,
     "name": "#%%\n"
    }
   },
   "outputs": [
    {
     "name": "stdout",
     "output_type": "stream",
     "text": [
      "(100, 2) (100,)\n"
     ]
    }
   ],
   "source": [
    "#数据大小维度\n",
    "print(X.shape,y.shape)"
   ]
  },
  {
   "cell_type": "code",
   "execution_count": 26,
   "metadata": {
    "pycharm": {
     "is_executing": false,
     "name": "#%%\n"
    }
   },
   "outputs": [
    {
     "data": {
      "text/plain": [
       "LogisticRegression(C=1.0, class_weight=None, dual=False, fit_intercept=True,\n",
       "          intercept_scaling=1, max_iter=100, multi_class='ovr', n_jobs=1,\n",
       "          penalty='l2', random_state=None, solver='liblinear', tol=0.0001,\n",
       "          verbose=0, warm_start=False)"
      ]
     },
     "execution_count": 26,
     "metadata": {},
     "output_type": "execute_result"
    }
   ],
   "source": [
    "#建立并训练模型\n",
    "from sklearn.linear_model import LogisticRegression \n",
    "LR = LogisticRegression()\n",
    "LR.fit(X,y)"
   ]
  },
  {
   "cell_type": "code",
   "execution_count": 27,
   "metadata": {
    "pycharm": {
     "is_executing": false,
     "name": "#%%\n"
    }
   },
   "outputs": [
    {
     "data": {
      "text/plain": [
       "array([0, 0, 0, 1, 1, 0, 1, 1, 1, 1, 1, 0, 1, 1, 0, 1, 1, 1, 1, 1, 1, 1,\n",
       "       0, 0, 1, 1, 1, 1, 1, 0, 1, 1, 1, 1, 0, 0, 1, 1, 1, 0, 1, 0, 1, 1,\n",
       "       0, 1, 1, 1, 1, 1, 1, 1, 1, 0, 0, 0, 1, 1, 1, 1, 1, 0, 0, 0, 0, 0,\n",
       "       1, 0, 1, 1, 0, 1, 1, 1, 1, 1, 1, 1, 0, 1, 1, 1, 1, 1, 1, 1, 1, 1,\n",
       "       1, 0, 1, 1, 0, 1, 1, 1, 1, 1, 1, 1], dtype=int64)"
      ]
     },
     "execution_count": 27,
     "metadata": {},
     "output_type": "execute_result"
    }
   ],
   "source": [
    "#预测结果\n",
    "y_predict = LR.predict(X)\n",
    "y_predict"
   ]
  },
  {
   "cell_type": "code",
   "execution_count": 28,
   "metadata": {
    "pycharm": {
     "is_executing": false,
     "name": "#%%\n"
    }
   },
   "outputs": [
    {
     "name": "stdout",
     "output_type": "stream",
     "text": [
      "0.87\n"
     ]
    }
   ],
   "source": [
    "# 评估模型表现 (准确率)\n",
    "from sklearn.metrics import accuracy_score\n",
    "accuracy = accuracy_score(y,y_predict)\n",
    "print(accuracy)\n",
    "#越接近1越好 "
   ]
  },
  {
   "cell_type": "code",
   "execution_count": 29,
   "metadata": {
    "pycharm": {
     "is_executing": false,
     "name": "#%%\n"
    }
   },
   "outputs": [
    {
     "name": "stdout",
     "output_type": "stream",
     "text": [
      "passed\n"
     ]
    }
   ],
   "source": [
    "#预测\n",
    "#exam1=70 exam2=65\n",
    "y_test = LR.predict([[70,65]])\n",
    "print('passed' if y_test==1 else 'failed')"
   ]
  },
  {
   "cell_type": "code",
   "execution_count": 30,
   "metadata": {
    "pycharm": {
     "is_executing": false,
     "name": "#%%\n"
    }
   },
   "outputs": [
    {
     "name": "stdout",
     "output_type": "stream",
     "text": [
      "0     82.811031\n",
      "1     88.186306\n",
      "2     81.294299\n",
      "3     51.132927\n",
      "4     27.769806\n",
      "5     69.847236\n",
      "6     49.987627\n",
      "7     32.737365\n",
      "8     31.406183\n",
      "9     21.076867\n",
      "10     6.911934\n",
      "11    32.751106\n",
      "12    23.711571\n",
      "13    39.752642\n",
      "14    76.719709\n",
      "15    58.831604\n",
      "16    40.117580\n",
      "17    41.509800\n",
      "18    38.145220\n",
      "19    30.315503\n",
      "20    42.222250\n",
      "21    14.577435\n",
      "22    63.090557\n",
      "23    83.321172\n",
      "24    29.143875\n",
      "25    48.544517\n",
      "26    26.335253\n",
      "27    10.316810\n",
      "28    49.090860\n",
      "29    77.652412\n",
      "        ...    \n",
      "70    85.166942\n",
      "71    46.352853\n",
      "72    36.056827\n",
      "73    50.791733\n",
      "74    52.795778\n",
      "75     1.996043\n",
      "76    67.144084\n",
      "77    63.185532\n",
      "78    50.794620\n",
      "79    23.811210\n",
      "80    15.522959\n",
      "81     8.184872\n",
      "82    42.287654\n",
      "83    54.781628\n",
      "84    26.116403\n",
      "85    40.863239\n",
      "86    73.575173\n",
      "87    32.175964\n",
      "88    28.262239\n",
      "89    60.843233\n",
      "90     9.102256\n",
      "91    13.620886\n",
      "92    56.958715\n",
      "93    33.396799\n",
      "94    14.367936\n",
      "95    22.246449\n",
      "96    73.344337\n",
      "97     2.631676\n",
      "98    57.134890\n",
      "99    33.045796\n",
      "Name: Exam1, Length: 100, dtype: float64\n"
     ]
    }
   ],
   "source": [
    "#评估模型表现2 \n",
    "#直接画图看边界曲线\n",
    "theta0 = LR.intercept_\n",
    "theta1,theta2 = LR.coef_[0][0],LR.coef_[0][1]\n",
    "\n",
    "X2_new = - (theta0 + theta1 * X1)/theta2\n",
    "print(X2_new)\n"
   ]
  },
  {
   "cell_type": "code",
   "execution_count": 31,
   "metadata": {
    "pycharm": {
     "is_executing": false,
     "name": "#%%\n"
    }
   },
   "outputs": [
    {
     "data": {
      "image/png": "[encoded data removed]",
      "text/plain": [
       "<Figure size 432x288 with 1 Axes>"
      ]
     },
     "metadata": {
      "needs_background": "light"
     },
     "output_type": "display_data"
    }
   ],
   "source": [
    "#绘图\n",
    "fig3 = plt.figure()\n",
    "passed = plt.scatter(data.loc[:,'Exam1'][mask],data.loc[:,\"Exam2\"][mask])\n",
    "failed = plt.scatter(data.loc[:,'Exam1'][~mask],data.loc[:,\"Exam2\"][~mask])\n",
    "\n",
    "plt.plot(X1,X2_new)  # 在原来代码基础上，加上画边界曲线的代码\n",
    "\n",
    "plt.title(\"Exam1-Exam2\")\n",
    "plt.xlabel(\"Exam1\")\n",
    "plt.ylabel(\"Exam2\")\n",
    "plt.legend((passed,failed),('passed','failed'))\n",
    "plt.show()"
   ]
  },
  {
   "cell_type": "markdown",
   "metadata": {
    "pycharm": {
     "is_executing": false,
     "name": "#%% md\n"
    }
   },
   "source": [
    "# 用二阶边界函数"
   ]
  },
  {
   "cell_type": "code",
   "execution_count": 32,
   "metadata": {
    "pycharm": {
     "is_executing": false,
     "name": "#%%\n"
    }
   },
   "outputs": [],
   "source": [
    "X1_2 = X1 * X1\n",
    "X2_2 = X2 * X2\n",
    "X1_X2 = X1 * X2\n"
   ]
  },
  {
   "cell_type": "code",
   "execution_count": 33,
   "metadata": {
    "pycharm": {
     "is_executing": false,
     "name": "#%%\n"
    }
   },
   "outputs": [
    {
     "name": "stdout",
     "output_type": "stream",
     "text": [
      "           X1         X2         X1_2         X2_2        X1_X2\n",
      "0   34.623660  78.024693  1198.797805  6087.852690  2701.500406\n",
      "1   30.286711  43.894998   917.284849  1926.770807  1329.435094\n",
      "2   35.847409  72.902198  1285.036716  5314.730478  2613.354893\n",
      "3   60.182599  86.308552  3621.945269  7449.166166  5194.273015\n",
      "4   79.032736  75.344376  6246.173368  5676.775061  5954.672216\n",
      "5   45.083277  56.316372  2032.501908  3171.533730  2538.926616\n",
      "6   61.106665  96.511426  3734.024451  9314.455325  5897.491326\n",
      "7   75.024746  46.554014  5628.712448  2167.276177  3492.703021\n",
      "8   76.098787  87.420570  5791.025337  7642.356010  6652.599288\n",
      "9   84.432820  43.533393  7128.901086  1895.156333  3675.647160\n",
      "10  95.861555  38.225278  9189.437740  1461.171883  3664.334598\n",
      "11  75.013658  30.603263  5627.048945   936.559720  2295.662734\n",
      "12  82.307053  76.481963  6774.451034  5849.490710  6295.005035\n",
      "13  69.364589  97.718692  4811.446174  9548.942758  6778.216882\n",
      "14  39.538339  76.036811  1563.280262  5781.596604  3006.369215\n",
      "15  53.971052  89.207350  2912.874470  7957.951319  4814.614547\n",
      "16  69.070144  52.740470  4770.684800  2781.557147  3642.791842\n",
      "17  67.946855  46.678574  4616.775170  2178.889281  3171.662329\n",
      "18  70.661510  92.927138  4993.048932  8635.452956  6566.371841\n",
      "19  76.978784  47.575964  5925.733145  2263.472317  3662.339817\n",
      "20  67.372028  42.838438  4538.990096  1835.131798  2886.112447\n",
      "21  89.676776  65.799366  8041.924109  4329.556557  5900.674983\n",
      "22  50.534788  48.855812  2553.764828  2386.890320  2468.918092\n",
      "23  34.212061  44.209529  1170.465116  1954.482419  1512.499088\n",
      "24  77.924091  68.972360  6072.164028  4757.186443  5374.608487\n",
      "25  62.271014  69.954458  3877.679143  4893.626187  4356.135007\n",
      "26  80.190181  44.821629  6430.465089  2008.978420  3594.254525\n",
      "27  93.114389  38.800670  8670.289402  1505.492019  3612.900704\n",
      "28  61.830206  50.256108  3822.974376  2525.676380  3107.345505\n",
      "29  38.785804  64.995681  1504.338576  4224.438543  2520.909730\n",
      "..        ...        ...          ...          ...          ...\n",
      "70  32.722833  43.307173  1070.783802  1875.511238  1417.133393\n",
      "71  64.039320  78.031688  4101.034560  6088.944335  4997.096272\n",
      "72  72.346494  96.227593  5234.015227  9259.749649  6961.729000\n",
      "73  60.457886  73.094998  3655.155948  5342.878747  4419.169043\n",
      "74  58.840956  75.858448  3462.258129  5754.504180  4463.583636\n",
      "75  99.827858  72.369252  9965.601193  5237.308625  7224.467391\n",
      "76  47.264269  88.475865  2233.911135  7827.978687  4181.747093\n",
      "77  50.458160  75.809860  2546.025890  5747.134802  3825.226007\n",
      "78  60.455556  42.508409  3654.874286  1806.964873  2569.869540\n",
      "79  82.226662  42.719879  6761.223875  1824.988022  3512.712995\n",
      "80  88.913896  69.803789  7905.680977  4872.568945  6206.526856\n",
      "81  94.834507  45.694307  8993.583665  2087.969674  4333.397045\n",
      "82  67.319257  66.589353  4531.882426  4434.141957  4482.745811\n",
      "83  57.238706  59.514282  3276.269501  3541.949760  3406.520508\n",
      "84  80.366756  90.960148  6458.815470  8273.748506  7310.172012\n",
      "85  68.468522  85.594307  4687.938476  7326.385408  5860.515681\n",
      "86  42.075455  78.844786  1770.343875  6216.500279  3317.430209\n",
      "87  75.477702  90.424539  5696.883501  8176.597253  6825.036409\n",
      "88  78.635424  96.647427  6183.529963  9340.725179  7599.911448\n",
      "89  52.348004  60.769505  2740.313522  3692.932770  3181.162304\n",
      "90  94.094331  77.159105  8853.743151  5953.527498  7260.234384\n",
      "91  90.448551  87.508792  8180.940373  7657.788635  7915.043412\n",
      "92  55.482161  35.570703  3078.270205  1265.274945  1973.539502\n",
      "93  74.492692  84.845137  5549.161224  7198.697247  6320.342683\n",
      "94  89.845807  45.358284  8072.268983  2057.373892  4075.251582\n",
      "95  83.489163  48.380286  6970.440295  2340.652054  4039.229555\n",
      "96  42.261701  87.103851  1786.051355  7587.080849  3681.156888\n",
      "97  99.315009  68.775409  9863.470975  4730.056948  6830.430397\n",
      "98  55.340018  64.931938  3062.517544  4216.156574  3593.334590\n",
      "99  74.775893  89.529813  5591.434174  8015.587398  6694.671710\n",
      "\n",
      "[100 rows x 5 columns]\n"
     ]
    }
   ],
   "source": [
    "#处理数据\n",
    "X_new = {'X1':X1,'X2':X2,'X1_2':X1_2,'X2_2':X2_2,\"X1_X2\":X1_X2}\n",
    "X_new = pd.DataFrame(X_new)\n",
    "print(X_new)"
   ]
  },
  {
   "cell_type": "code",
   "execution_count": 34,
   "metadata": {
    "pycharm": {
     "is_executing": false,
     "name": "#%%\n"
    }
   },
   "outputs": [
    {
     "data": {
      "text/plain": [
       "LogisticRegression(C=1.0, class_weight=None, dual=False, fit_intercept=True,\n",
       "          intercept_scaling=1, max_iter=100, multi_class='ovr', n_jobs=1,\n",
       "          penalty='l2', random_state=None, solver='liblinear', tol=0.0001,\n",
       "          verbose=0, warm_start=False)"
      ]
     },
     "execution_count": 34,
     "metadata": {},
     "output_type": "execute_result"
    }
   ],
   "source": [
    "#训练新模型\n",
    "LR2 = LogisticRegression()\n",
    "LR2.fit(X_new,y)"
   ]
  },
  {
   "cell_type": "code",
   "execution_count": 35,
   "metadata": {
    "pycharm": {
     "is_executing": false,
     "name": "#%%\n"
    }
   },
   "outputs": [
    {
     "data": {
      "text/plain": [
       "1.0"
      ]
     },
     "execution_count": 35,
     "metadata": {},
     "output_type": "execute_result"
    }
   ],
   "source": [
    "#预测\n",
    "y2_predict = LR2.predict(X_new)\n",
    "accuracy2 = accuracy_score(y,y2_predict)\n",
    "accuracy2"
   ]
  },
  {
   "cell_type": "code",
   "execution_count": 36,
   "metadata": {
    "pycharm": {
     "is_executing": false,
     "name": "#%%\n"
    }
   },
   "outputs": [
    {
     "data": {
      "text/plain": [
       "63    30.058822\n",
       "1     30.286711\n",
       "57    32.577200\n",
       "70    32.722833\n",
       "36    33.915500\n",
       "39    34.183640\n",
       "23    34.212061\n",
       "53    34.524514\n",
       "0     34.623660\n",
       "61    35.286113\n",
       "2     35.847409\n",
       "29    38.785804\n",
       "14    39.538339\n",
       "34    40.236894\n",
       "66    40.457551\n",
       "86    42.075455\n",
       "96    42.261701\n",
       "64    44.668262\n",
       "5     45.083277\n",
       "76    47.264269\n",
       "67    49.072563\n",
       "55    49.586677\n",
       "54    50.286496\n",
       "77    50.458160\n",
       "22    50.534788\n",
       "44    51.047752\n",
       "41    51.547720\n",
       "33    52.045405\n",
       "32    52.107980\n",
       "89    52.348004\n",
       "        ...    \n",
       "24    77.924091\n",
       "88    78.635424\n",
       "4     79.032736\n",
       "50    79.944818\n",
       "26    80.190181\n",
       "68    80.279574\n",
       "84    80.366756\n",
       "79    82.226662\n",
       "12    82.307053\n",
       "43    82.368754\n",
       "95    83.489163\n",
       "40    83.902394\n",
       "9     84.432820\n",
       "31    85.404519\n",
       "80    88.913896\n",
       "21    89.676776\n",
       "94    89.845807\n",
       "91    90.448551\n",
       "52    90.546714\n",
       "49    91.564975\n",
       "27    93.114389\n",
       "90    94.094331\n",
       "42    94.443368\n",
       "81    94.834507\n",
       "10    95.861555\n",
       "56    97.645634\n",
       "47    97.771599\n",
       "51    99.272527\n",
       "97    99.315009\n",
       "75    99.827858\n",
       "Name: Exam1, Length: 100, dtype: float64"
      ]
     },
     "execution_count": 36,
     "metadata": {},
     "output_type": "execute_result"
    }
   ],
   "source": [
    "#要先对点排序 否则画图会点点连线错乱\n",
    "X1_new = X1.sort_values()\n",
    "X1_new"
   ]
  },
  {
   "cell_type": "code",
   "execution_count": 37,
   "metadata": {
    "pycharm": {
     "is_executing": false,
     "name": "#%%\n"
    }
   },
   "outputs": [
    {
     "name": "stdout",
     "output_type": "stream",
     "text": [
      "[-0.02046427] -0.5623313061208446 -0.6465372139730652 0.0005109617656568389 0.0013314606649980952\n"
     ]
    },
    {
     "data": {
      "text/plain": [
       "63    140.716864\n",
       "1     139.106955\n",
       "57    124.212217\n",
       "70    123.343057\n",
       "36    116.563412\n",
       "39    115.120505\n",
       "23    114.969280\n",
       "53    113.328176\n",
       "0     112.815582\n",
       "61    109.489573\n",
       "2     106.802904\n",
       "29     94.541797\n",
       "14     91.841698\n",
       "34     89.478118\n",
       "66     88.758783\n",
       "86     83.856144\n",
       "96     83.331311\n",
       "64     77.196201\n",
       "5      76.248746\n",
       "76     71.726703\n",
       "67     68.485457\n",
       "55     67.636893\n",
       "54     66.529063\n",
       "77     66.265289\n",
       "22     66.148529\n",
       "44     65.382221\n",
       "41     64.660124\n",
       "33     63.964559\n",
       "32     63.878693\n",
       "89     63.552544\n",
       "         ...    \n",
       "24     44.918493\n",
       "88     44.643641\n",
       "4      44.493113\n",
       "50     44.155363\n",
       "26     44.066308\n",
       "68     44.034048\n",
       "84     44.002682\n",
       "79     43.355049\n",
       "12     43.327950\n",
       "43     43.307201\n",
       "95     42.937588\n",
       "40     42.804606\n",
       "9      42.636455\n",
       "31     42.335601\n",
       "80     41.320367\n",
       "21     41.113248\n",
       "94     41.067967\n",
       "91     40.908263\n",
       "52     40.882511\n",
       "49     40.619512\n",
       "27     40.233225\n",
       "90     39.997123\n",
       "42     39.914501\n",
       "81     39.822807\n",
       "10     39.586432\n",
       "56     39.190274\n",
       "47     39.162968\n",
       "51     38.844036\n",
       "97     38.835178\n",
       "75     38.728953\n",
       "Name: Exam1, Length: 100, dtype: float64"
      ]
     },
     "execution_count": 37,
     "metadata": {},
     "output_type": "execute_result"
    }
   ],
   "source": [
    "#绘图\n",
    "theta0 = LR2.intercept_\n",
    "theta1= LR2.coef_[0][0]\n",
    "theta2= LR2.coef_[0][1]\n",
    "theta3= LR2.coef_[0][2]\n",
    "theta4= LR2.coef_[0][3]\n",
    "theta5= LR2.coef_[0][4]\n",
    "print(theta0,theta1,theta2,theta3,theta4)\n",
    "a = theta4\n",
    "b = theta5 * X1_new + theta2\n",
    "c = theta0 + theta1 * X1_new + theta3 * X1_new * X1_new\n",
    "X2_new_boundary = (-b + np.sqrt(b*b-4*a*c))/(2*a)\n",
    "X2_new_boundary"
   ]
  },
  {
   "cell_type": "code",
   "execution_count": 38,
   "metadata": {
    "pycharm": {
     "is_executing": false,
     "name": "#%%\n"
    }
   },
   "outputs": [
    {
     "data": {
      "image/png": "[encoded data removed]",
      "text/plain": [
       "<Figure size 432x288 with 1 Axes>"
      ]
     },
     "metadata": {
      "needs_background": "light"
     },
     "output_type": "display_data"
    }
   ],
   "source": [
    "#绘图\n",
    "fig4 = plt.figure()\n",
    "passed = plt.scatter(data.loc[:,'Exam1'][mask],data.loc[:,\"Exam2\"][mask])\n",
    "failed = plt.scatter(data.loc[:,'Exam1'][~mask],data.loc[:,\"Exam2\"][~mask])\n",
    "\n",
    "plt.plot(X1_new,X2_new_boundary)\n",
    "\n",
    "plt.title(\"Exam1-Exam2\")\n",
    "plt.xlabel(\"Exam1\")\n",
    "plt.ylabel(\"Exam2\")\n",
    "plt.legend((passed,failed),('passed','failed'))\n",
    "plt.show()\n"
   ]
  },
  {
   "cell_type": "code",
   "execution_count": null,
   "metadata": {
    "pycharm": {
     "is_executing": false,
     "name": "#%%\n"
    }
   },
   "outputs": [],
   "source": [
    "\n"
   ]
  },
  {
   "cell_type": "code",
   "execution_count": null,
   "metadata": {},
   "outputs": [],
   "source": []
  },
  {
   "cell_type": "code",
   "execution_count": null,
   "metadata": {},
   "outputs": [],
   "source": []
  },
  {
   "cell_type": "code",
   "execution_count": null,
   "metadata": {},
   "outputs": [],
   "source": []
  }
 ],
 "metadata": {
  "kernelspec": {
   "display_name": "Python 3",
   "language": "python",
   "name": "python3"
  },
  "language_info": {
   "codemirror_mode": {
    "name": "ipython",
    "version": 3
   },
   "file_extension": ".py",
   "mimetype": "text/x-python",
   "name": "python",
   "nbconvert_exporter": "python",
   "pygments_lexer": "ipython3",
   "version": "3.7.0"
  },
  "pycharm": {
   "stem_cell": {
    "cell_type": "raw",
    "metadata": {
     "collapsed": false
    },
    "source": []
   }
  }
 },
 "nbformat": 4,
 "nbformat_minor": 1
}
